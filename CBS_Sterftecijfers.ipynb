{
 "cells": [
  {
   "cell_type": "markdown",
   "id": "ad841837-aa4a-495f-95e2-1379261d41dd",
   "metadata": {},
   "source": [
    "# Impact COVID-19 in The Netherlands\n",
    "\n",
    "Plotting diseased per week of the years 2020- on boxplots.\n",
    "\n",
    "The graphs are shown:\n",
    "- normalized (# people per week / (# weekdays * estimated population in that week))\n",
    "- per week\n",
    "- per category (total, total men, total women, age 0-65, age 65-80, age 80 plus)\n",
    "- line graphs (2020 - present)\n",
    "- box plots (1995 or later (user choice) - 2019)\n",
    "\n",
    "<br>\n",
    "All the data used is from CBS (Dutch sensus bureau). Running the notebook updates the data.\n",
    "\n",
    "<br> \n",
    "** note\n",
    "- Diseased per category per week: [CBS table 70895NED](https://opendata.cbs.nl/statline/#/CBS/nl/dataset/70895NED)\n",
    "- Extrapolation for recent week(s) for diseased categories that still have n/a  \n",
    "- Population per year: [CBS table 70072NED](https://opendata.cbs.nl/statline/#/CBS/nl/dataset/70072NED)\n",
    "- Interpolation is used to estimate population per week between two years\n",
    "- Estimates is used for population next year: [CBS table 84527NED](https://opendata.cbs.nl/statline/#/CBS/nl/dataset/84527NED)\n",
    "\n"
   ]
  },
  {
   "cell_type": "code",
   "execution_count": 1,
   "id": "dd5587ba-15c5-4d66-8603-d23e54b337ab",
   "metadata": {},
   "outputs": [],
   "source": [
    "# Most important constants that can be manually tweaked; RESTART AND RUN ALL the complete notebook again!!\n",
    "\n",
    "CUTOFF = 2020   # year in which COVID-19 came into existance\n",
    "EXTRAPOLATION_FROM = 2015 # year to extrapolate n/a values for age categories <== change this value if you find it appropiate to use another year\n"
   ]
  },
  {
   "cell_type": "markdown",
   "id": "45077cc2-0a10-4765-8d6a-05ce20c8fee5",
   "metadata": {},
   "source": [
    "## Setting things up"
   ]
  },
  {
   "cell_type": "code",
   "execution_count": 2,
   "id": "d9d8e44d-9473-4416-bbe0-3d26a7183c5e",
   "metadata": {},
   "outputs": [],
   "source": [
    "# installing the necessary libraries for this notebook\n",
    "import cbsodata\n",
    "import pandas as pd\n",
    "import numpy as np\n",
    "from datetime import timedelta, datetime\n",
    "import plotly.graph_objects as go\n",
    "from ipywidgets import interact\n",
    "\n",
    "# Defining the required global constants\n",
    "CURRENT_YEAR = datetime.now().year\n",
    "NEXT_YEAR = datetime.now().year + 1\n",
    "\n",
    "# CBS Open Data Tables\n",
    "DISEASED = '70895ned'\n",
    "POPULATION = '70072NED'\n",
    "EST_POPULATION = '84527NED'"
   ]
  },
  {
   "cell_type": "markdown",
   "id": "402e036c-6b5e-4377-9f3a-7011c9509477",
   "metadata": {},
   "source": [
    "## Getting and prepping CBS data"
   ]
  },
  {
   "cell_type": "code",
   "execution_count": 3,
   "id": "9d72e8b9-ca6e-4159-9538-5551238f8809",
   "metadata": {},
   "outputs": [],
   "source": [
    "# get 70895NED CBS data: overledenen per week\n",
    "data1_1 = pd.DataFrame(cbsodata.get_data(DISEASED))"
   ]
  },
  {
   "cell_type": "code",
   "execution_count": 4,
   "id": "e6ace57f-5a16-4c67-a252-5171de23bbff",
   "metadata": {},
   "outputs": [],
   "source": [
    "# remove all non Jaar-Week. Make a copy for .map(len) > 5 creates a slice and this doesn't work nicely with later operations\n",
    "data1_2 = data1_1[data1_1['Perioden'].map(len) > 5].copy()\n",
    "\n",
    "# # calculate deaths per week\n",
    "data1_2['dagen'] = [7 if x.find('(') == -1 else int(x[x.find('(')+1:x.find('(')+2]) for x in data1_2['Perioden']]\n",
    "data1_2['Overledenen_2'] = data1_2['Overledenen_1'] / data1_2['dagen'] #[7 if x.find('(') == -1 else int(x[x.find('(')+1:x.find('(')+2]) for x in data1_1['Perioden']]\n",
    "\n",
    "# create a pivot table\n",
    "data1_3 = pd.pivot_table(data1_2, values='Overledenen_2', index=['Perioden'], columns=['Geslacht', 'LeeftijdOp31December'])"
   ]
  },
  {
   "cell_type": "code",
   "execution_count": 5,
   "id": "2ef7776a-a969-4524-9808-65fefcf3d01c",
   "metadata": {},
   "outputs": [],
   "source": [
    "# flatten the pivot table\n",
    "data1_3.columns = data1_3.columns.to_series().str.join('-')\n",
    "data1_4 = data1_3.reset_index(level=0)\n",
    "\n",
    "# find out # of days for the record and remove the (x dag)\n",
    "data1_4['Perioden1'] = [x if x.find('(') == -1 else x[0:x.find('(')-1] for x in data1_4['Perioden']]\n",
    "data1_4['jaar'] = [int(x[0:5]) for x in data1_4['Perioden1']]\n",
    "data1_4['week'] = [int(x[10:]) for x in data1_4['Perioden1']]\n",
    "\n",
    "data1_4 = data1_4.rename(columns={'Totaal mannen en vrouwen-Totaal leeftijd': 'k_totaal',\n",
    "                            'Mannen-Totaal leeftijd': 'k_mannen',\n",
    "                            'Vrouwen-Totaal leeftijd': 'k_vrouwen'\n",
    "                            })"
   ]
  },
  {
   "cell_type": "code",
   "execution_count": 6,
   "id": "503e881b-3b4d-4147-a458-0f7fdf907c2a",
   "metadata": {},
   "outputs": [],
   "source": [
    "# grouping the data for CBS data does not provide data per age category number of men and woman\n",
    "data1_4['k_0_65'] = data1_4['Mannen-0 tot 65 jaar'] + data1_4['Vrouwen-0 tot 65 jaar']\n",
    "data1_4['k_65_80'] = data1_4['Mannen-65 tot 80 jaar'] + data1_4['Vrouwen-65 tot 80 jaar']\n",
    "data1_4['k_80plus'] = data1_4['Mannen-80 jaar of ouder'] + data1_4['Vrouwen-80 jaar of ouder']\n",
    "\n",
    "columns_list = ['k_totaal', 'k_mannen', 'k_vrouwen', 'k_0_65', 'k_65_80', 'k_80plus']\n",
    "for item in columns_list:\n",
    "  data1_4[item] = data1_4[item].round(2)\n",
    "\n",
    "\n",
    "data1_4 = data1_4[['jaar', 'week', 'k_totaal', 'k_mannen', 'k_vrouwen', 'k_0_65', 'k_65_80', 'k_80plus']]\n",
    "df_overledenen = data1_4.sort_values(['jaar', 'week'])\n",
    "\n",
    "# print(df_overledenen)"
   ]
  },
  {
   "cell_type": "code",
   "execution_count": 7,
   "id": "b8f44bcd-94e6-432b-903d-ea568c54ad9d",
   "metadata": {},
   "outputs": [],
   "source": [
    "# getting the data from 70072NED, this data set contains population over time per year\n",
    "\n",
    "filtering = \"substringof('NL',RegioS)\"\n",
    "selection = ['Perioden', 'TotaleBevolking_1', 'Mannen_2', 'Vrouwen_3', 'k_65Tot80Jaar_11', 'k_80JaarOfOuder_12']\n",
    "data2_1 = pd.DataFrame(cbsodata.get_data(POPULATION,\n",
    "                                      filters=filtering,\n",
    "                                      select=selection\n",
    "                                      ))\n",
    "data2_1 = data2_1.rename(columns={'Perioden': 'jaar',\n",
    "                            'TotaleBevolking_1': 'k_totaal_t',\n",
    "                            'Mannen_2': 'k_mannen_t',\n",
    "                            'Vrouwen_3': 'k_vrouwen_t',\n",
    "                            'k_65Tot80Jaar_11': 'k_65_80_t',\n",
    "                            'k_80JaarOfOuder_12': 'k_80plus_t'})\n",
    "data2_1['k_0_65_t'] = data2_1['k_totaal_t'] - data2_1['k_65_80_t'] - data2_1['k_80plus_t']\n",
    "data2_1 = data2_1[['jaar', 'k_totaal_t', 'k_mannen_t', 'k_vrouwen_t', 'k_0_65_t', 'k_65_80_t', 'k_80plus_t']]\n",
    "\n",
    "df_bevolkings_aantal = data2_1.copy()\n",
    "df_bevolkings_aantal['jaar'] = df_bevolkings_aantal['jaar'].astype(int)"
   ]
  },
  {
   "cell_type": "code",
   "execution_count": 8,
   "id": "83d24273-c0fb-4be4-9ffe-b4b1e5cfa3ce",
   "metadata": {},
   "outputs": [],
   "source": [
    "# CBS does not provide details per category of the lastest weeks, extrapolation is used to fill in the n/a\n",
    "df=df_bevolkings_aantal\n",
    "\n",
    "df=df[df['jaar']>EXTRAPOLATION_FROM]\n",
    "\n",
    "correction = {\n",
    "    'k_mannen_t': (df['k_mannen_t'] / df['k_totaal_t']).mean(),\n",
    "    'k_vrouwen_t': (df['k_vrouwen_t'] / df['k_totaal_t']).mean(),\n",
    "    'k_0_65_t': (df['k_0_65_t'] / df['k_totaal_t']).mean(),\n",
    "    'k_65_80_t': (df['k_65_80_t'] / df['k_totaal_t']).mean(),\n",
    "    'k_80plus_t': (df['k_80plus_t'] / df['k_totaal_t']).mean()\n",
    "    }"
   ]
  },
  {
   "cell_type": "markdown",
   "id": "f180e93b-2fbd-4dfe-be8e-163a9db04d85",
   "metadata": {},
   "source": [
    "## Check if EXTRAPOLATION_FROM is correct\n",
    "\n",
    "Play with the slider to see from which year you think the MEAN should be used to extrapolate the N/A values that might be present in the latest CBS data set for diseased.\n",
    "\n",
    "If you want to use another YEAR, update EXTRAPOLATION_FROM in the first cell of this notebook and rerun this notebook in full."
   ]
  },
  {
   "cell_type": "code",
   "execution_count": 9,
   "id": "12a236ea-fba9-450f-a011-0725575d1f6b",
   "metadata": {},
   "outputs": [
    {
     "name": "stdout",
     "output_type": "stream",
     "text": [
      "Jear 2015 is used to estimated the n/a values in the CBS data of the most recent week(s).\n",
      "\n",
      "If you like to use a different date BY DEFAULT, update this in the first cell EXTRAPOLATION_FROM and then the Notebook requires RESTART AND RERUN ALL.\n",
      "\n",
      "\n"
     ]
    },
    {
     "data": {
      "application/vnd.jupyter.widget-view+json": {
       "model_id": "77a3dde9858843f2a80704c09717e619",
       "version_major": 2,
       "version_minor": 0
      },
      "text/plain": [
       "interactive(children=(IntSlider(value=2015, description='jaar', max=2020, min=1995), Output()), _dom_classes=(…"
      ]
     },
     "metadata": {},
     "output_type": "display_data"
    }
   ],
   "source": [
    "# CBS does not provide details per category of the lastest weeks, extrapolation is used to fill in the n/a\n",
    "\n",
    "print(f'''Jear {EXTRAPOLATION_FROM} is used to estimated the n/a values in the CBS data of the most recent week(s).\n",
    "\n",
    "If you like to use a different date BY DEFAULT, update this in the first cell EXTRAPOLATION_FROM and then the Notebook requires RESTART AND RERUN ALL.\n",
    "\n",
    "''')\n",
    "\n",
    "@interact(jaar=(min(df_bevolkings_aantal['jaar']), CUTOFF, 1))\n",
    "def update(jaar=EXTRAPOLATION_FROM):\n",
    "  df_temp = df_bevolkings_aantal.copy()\n",
    "  df_temp=df_temp[df_temp['jaar']>jaar]\n",
    "  df_temp['p_mannen'] = df_temp['k_mannen_t'] / df_temp['k_totaal_t']\n",
    "  df_temp['p_vrouwen'] = df_temp['k_vrouwen_t'] / df_temp['k_totaal_t']\n",
    "  df_temp['p_0_65'] = df_temp['k_0_65_t'] / df_temp['k_totaal_t']\n",
    "  df_temp['p_65_80'] = df_temp['k_65_80_t'] / df_temp['k_totaal_t']\n",
    "  df_temp['p_80plus'] = df_temp['k_80plus_t'] / df_temp['k_totaal_t']\n",
    "  \n",
    "  print(df_temp[['p_mannen', 'p_vrouwen', 'p_0_65', 'p_65_80', 'p_80plus']].describe())\n"
   ]
  },
  {
   "cell_type": "markdown",
   "id": "e34285a0-011b-4bf9-8156-34a24e57203f",
   "metadata": {},
   "source": [
    "## Continuing to get and prep CBS data"
   ]
  },
  {
   "cell_type": "code",
   "execution_count": 10,
   "id": "01864297-c9a7-497e-a816-8404e0aad0e3",
   "metadata": {},
   "outputs": [],
   "source": [
    "# getting the data prognose next year\n",
    "\n",
    "filtering = \"((Perioden eq '\"+str(NEXT_YEAR)+\"JJ00')) and ((Leeftijd eq '10000')) and ((PrognoseInterval eq 'MW00000')) and ((substringof('NL',RegioIndeling2018)))\"\n",
    "selection = ['Perioden', 'TotaleBevolking_1']\n",
    "data = pd.DataFrame(cbsodata.get_data(EST_POPULATION,\n",
    "                                      select=selection,\n",
    "                                      filters=filtering\n",
    "                                      ))\n",
    "# Rename Bevolking to match df_70072NED\n",
    "data = data.rename(columns={'Perioden': 'jaar'})\n",
    "# data['jaar'] = pd.to_numeric(data['jaar'])\n",
    "\n",
    "data['k_totaal_t'] = data['TotaleBevolking_1'] * 1000\n",
    "data.drop('TotaleBevolking_1', axis=1, inplace=True)\n",
    "\n",
    "prognose_nextyear = data.copy()\n",
    "\n",
    "df_bevolkings_aantal = pd.concat([df_bevolkings_aantal, prognose_nextyear])\n",
    "df_bevolkings_aantal['jaar'] = df_bevolkings_aantal['jaar'].apply(pd.to_numeric)\n",
    "df_bevolkings_aantal.reset_index(drop=True, inplace=True)"
   ]
  },
  {
   "cell_type": "code",
   "execution_count": 11,
   "id": "193b2860-751f-48a6-b57e-7ce68baa5b48",
   "metadata": {},
   "outputs": [],
   "source": [
    "df_bevolkings_aantal['week'] = 1\n",
    "df_bevolkings_aantal = df_bevolkings_aantal[['jaar', 'week', 'k_totaal_t', 'k_mannen_t', 'k_vrouwen_t', 'k_0_65_t', 'k_65_80_t', 'k_80plus_t']]\n",
    "\n",
    "for year in [int(CURRENT_YEAR), int(NEXT_YEAR)]:\n",
    "  for item in columns_list[1:]:\n",
    "    bevolking = df_bevolkings_aantal.loc[df_bevolkings_aantal['jaar']==year, 'k_totaal_t']\n",
    "    df_bevolkings_aantal.loc[df_bevolkings_aantal['jaar']== year, item+'_t'] = correction[item+'_t']*bevolking"
   ]
  },
  {
   "cell_type": "code",
   "execution_count": 12,
   "id": "49f95734-62d6-4bcd-a3ec-0175f476a665",
   "metadata": {},
   "outputs": [],
   "source": [
    "# temp keeps track which rows must be deleted after\n",
    "temp = df_overledenen['jaar'].count()\n",
    "df_temp = df_overledenen\n",
    "# Add all weeks of the current year not yet in the dataframe\n",
    "latest_week = df_temp['week'].iloc[-1]\n",
    "latest_year = df_temp['jaar'].iloc[-1]\n",
    "for i in range(latest_week + 1, 53):\n",
    "    add_row = {'jaar': latest_year, 'week': i}\n",
    "    # df_temp = df_temp.append(add_row, ignore_index=True)\n",
    "    df_temp_row = pd.DataFrame(add_row, index=[0])\n",
    "    pd.concat([df_temp, df_temp_row])\n",
    "# add first week of next year to get the predicted population, needed for interpolation of current year\n",
    "# df_temp = df_temp.append({'jaar': latest_year+1, 'week': 1}, ignore_index=True)\n",
    "df_temp_row = pd.DataFrame({'jaar': latest_year+1, 'week': 1}, index=[0])\n",
    "pd.concat([df_temp, df_temp_row])\n",
    "\n",
    "df_temp = pd.merge(df_temp, df_bevolkings_aantal, how='left', left_on=['jaar', 'week'], right_on=['jaar', 'week'])\n",
    "\n",
    "# Interpolate for all other weeks\n",
    "for item in columns_list:\n",
    "  df_temp[item+'_t'] = df_temp[item+'_t'].interpolate().astype(float)\n",
    "\n",
    "# Remove added Jaar and Week, drop first row (is full of nans) and reindex\n",
    "df_temp.drop(df_temp.index[temp:], inplace=True)\n",
    "df_temp = df_temp.iloc[1:,:]\n",
    "\n",
    "df_temp.reset_index(drop=True, inplace=True)\n",
    "df_temp['jaar'] = df_temp['jaar'].astype(int)\n",
    "df_overledenen2 = df_temp.copy()\n"
   ]
  },
  {
   "cell_type": "code",
   "execution_count": 13,
   "id": "391b8b4b-3199-4fee-81af-3e7bcaf187b5",
   "metadata": {},
   "outputs": [],
   "source": [
    "# normalize\n",
    "df_temp = df_overledenen2.copy()\n",
    "for item in columns_list:\n",
    "  df_temp[item] = (df_temp[item] / df_temp[item+'_t'] * 100_000).round(2)\n",
    "  df_temp.drop(item+'_t', axis=1, inplace=True)\n",
    "df_overledenen3 = df_temp\n",
    "# print(df_overledenen3)"
   ]
  },
  {
   "cell_type": "markdown",
   "id": "bfc0372a-ac9a-4386-a29f-6c3d0f30b15e",
   "metadata": {},
   "source": [
    "## Display the graphs in an interactive plots"
   ]
  },
  {
   "cell_type": "code",
   "execution_count": 14,
   "id": "e6227be0-0f76-4bed-97d3-8f965383d37f",
   "metadata": {},
   "outputs": [],
   "source": [
    "# generic lists\n",
    "colors = ['red', 'blue', 'green', 'purple', 'orange']\n",
    "plots = ['k_totaal', 'k_mannen', 'k_vrouwen', 'k_0_65', 'k_65_80', 'k_80plus']\n",
    "\n",
    "weeks = list(df_overledenen3['week'])\n",
    "years = list(set(df_overledenen3['jaar']))"
   ]
  },
  {
   "cell_type": "code",
   "execution_count": 15,
   "id": "628424b4-6c2b-4590-92c9-78df00555e01",
   "metadata": {},
   "outputs": [],
   "source": [
    "df_temp = df_overledenen.copy()\n",
    "df_temp['week']=1\n",
    "df_temp = df_temp.groupby(by='jaar').sum()\n",
    "for item in df_temp.columns[1:]:\n",
    "  df_temp[item] = (df_temp[item] / df_temp['week']).round(1)\n",
    "df_temp.drop('week', inplace=True, axis=1)\n",
    "df_temp.reset_index(inplace=True)"
   ]
  },
  {
   "cell_type": "markdown",
   "id": "22ef04fa-1e52-4f88-8a88-06e92273833f",
   "metadata": {},
   "source": [
    "### Impact COVID-19 in The Netherlands\n",
    "\n",
    "Showing per category the diseased per year from 2020 compared to boxplot of that category 1995 (or later via slider) through 2019."
   ]
  },
  {
   "cell_type": "code",
   "execution_count": 16,
   "id": "de352fc0-aa52-4c0c-adcd-a2d3a3d58767",
   "metadata": {},
   "outputs": [
    {
     "name": "stdout",
     "output_type": "stream",
     "text": [
      "Select the category to see another category\n"
     ]
    },
    {
     "data": {
      "application/vnd.jupyter.widget-view+json": {
       "model_id": "aacb4cdde1d14a039f5b272becec7642",
       "version_major": 2,
       "version_minor": 0
      },
      "text/plain": [
       "interactive(children=(Dropdown(description='category', options=('k_totaal', 'k_mannen', 'k_vrouwen', 'k_0_65',…"
      ]
     },
     "metadata": {},
     "output_type": "display_data"
    }
   ],
   "source": [
    "print('Select the category to see another category')\n",
    "df_temp1 = df_overledenen.copy()\n",
    "df_bar = df_temp1.groupby('jaar').mean()\n",
    "\n",
    "title = f'Diseased in The Netherlands<br><sup>CBS OpenData tables {DISEASED}, {POPULATION} and {EST_POPULATION}, updated on: ' + datetime.today().strftime('%Y-%m-%d') \n",
    "\n",
    "fig3 = go.FigureWidget()\n",
    "fig3.layout.title = title\n",
    "fig3.layout.width = 750\n",
    "fig3.layout.height = 400\n",
    "fig3.layout.xaxis.title = 'years'\n",
    "fig3.layout.xaxis.tickvals = years\n",
    "fig3.layout.yaxis.title = 'Normalized Average Diseased / 100.000 per day<br><sub>avg((diseased per week / (# days per week * population))</sub>'\n",
    "\n",
    "\n",
    "fig3.add_bar()\n",
    "\n",
    "@interact(category=plots)\n",
    "def update(category='k_totaal'):\n",
    "  fig3.layout.title = title + f'<br>Data for {category[2:].replace(\"_\", \" - \").upper()} from {min(years)} through {NEXT_YEAR-1}'\n",
    "  with fig3.batch_update():\n",
    "    fig3.data[0].x = years\n",
    "    fig3.data[0].y = df_bar[category]\n",
    "    fig3.data[0].name = category[2:].replace('_', ' - ')\n",
    "    fig3.layout.yaxis.range = [df_bar[category].min()-50,df_bar[category].max()+50]\n",
    "  fig3.show()\n"
   ]
  },
  {
   "cell_type": "code",
   "execution_count": 17,
   "id": "2a71a33f-657f-480d-b1aa-a36458337de2",
   "metadata": {},
   "outputs": [
    {
     "name": "stdout",
     "output_type": "stream",
     "text": [
      "Select the YEAR to adjust the start of the boxplot data. Data for the boxplotes ends 2020\n",
      "\n"
     ]
    },
    {
     "data": {
      "application/vnd.jupyter.widget-view+json": {
       "model_id": "7fc38879d284438ebee9b61b307d4a17",
       "version_major": 2,
       "version_minor": 0
      },
      "text/plain": [
       "interactive(children=(IntSlider(value=2015, description='year', max=2019, min=1995), Output()), _dom_classes=(…"
      ]
     },
     "metadata": {},
     "output_type": "display_data"
    }
   ],
   "source": [
    "print(f'Select the YEAR to adjust the start of the boxplot data. Data for the boxplotes ends {CUTOFF}\\n')\n",
    "title = f'Impact COVID-19 in The Netherlands<br><sup>CBS OpenData tables {DISEASED}, {POPULATION} and {EST_POPULATION}, updated on: ' + datetime.today().strftime('%Y-%m-%d') \n",
    "\n",
    "fig2 = go.FigureWidget()\n",
    "fig2.layout.title = title\n",
    "fig2.layout.width = 900\n",
    "fig2.layout.height = 600\n",
    "fig2.layout.xaxis.title = 'Categories'\n",
    "# fig2.layout.xaxis.tickvals = weeks\n",
    "fig2.layout.yaxis.title = 'Normalized Diseased per day / 100.000<br><sub>(diseased per jear / (# days per year * population)</sub>'\n",
    "cat='k_totaal'\n",
    "\n",
    "for plot in df_temp.columns[1:]:\n",
    "  fig2.add_box()\n",
    "  for j in range(CUTOFF, NEXT_YEAR):\n",
    "    fig2.add_scatter()\n",
    "\n",
    "@interact(year=(min(df_temp['jaar']), CUTOFF-1, 1))\n",
    "def update(year=EXTRAPOLATION_FROM):\n",
    "  fig2.layout.title = title + f'<br>Boxplot data from {year} through {CUTOFF-1}'\n",
    "  with fig2.batch_update():\n",
    "    # fig2.data[0].x = cat\n",
    "    for i, plot in enumerate(df_temp.columns[1:]):\n",
    "      # fig2.data[i*(NEXT_YEAR-CUTOFF+1)].x = [plot]\n",
    "      fig2.data[i*(NEXT_YEAR-CUTOFF+1)].y = df_temp[(df_temp['jaar']>=year)&(df_temp['jaar']<CUTOFF)][plot]\n",
    "      fig2.data[i*(NEXT_YEAR-CUTOFF+1)].name = plot[2:].replace('_', ' tot ')\n",
    "      for j in range(CUTOFF, NEXT_YEAR):\n",
    "        fig2.data[i*(NEXT_YEAR-CUTOFF+1)+(j-CUTOFF+1)].x = [plot[2:].replace('_', ' tot ')]\n",
    "        fig2.data[i*(NEXT_YEAR-CUTOFF+1)+(j-CUTOFF+1)].y = df_temp[df_temp['jaar']==j][plot]\n",
    "        fig2.data[i*(NEXT_YEAR-CUTOFF+1)+(j-CUTOFF+1)].name = j\n",
    "        fig2.data[i*(NEXT_YEAR-CUTOFF+1)+(j-CUTOFF+1)].line.color = colors[j-CUTOFF]\n",
    "        if (i>0):\n",
    "          fig2.data[i*(NEXT_YEAR-CUTOFF+1)+(j-CUTOFF+1)].showlegend = False\n",
    "        else:\n",
    "          fig2.data[i*(NEXT_YEAR-CUTOFF+1)+(j-CUTOFF+1)].showlegend = True\n",
    "  fig2.show()"
   ]
  },
  {
   "cell_type": "markdown",
   "id": "dc9d3be3-a202-4755-aab3-50d8ede23e12",
   "metadata": {},
   "source": [
    "### Impact COVID-19 in The Netherlands\n",
    "\n",
    "Showing per user selected category how the diseased of the years 2020-today relate to boxplot data from 1995 (user can choose later year) through 2019."
   ]
  },
  {
   "cell_type": "code",
   "execution_count": 18,
   "id": "c37004ed-6539-43a2-861f-0fa1083d8f6d",
   "metadata": {},
   "outputs": [
    {
     "name": "stdout",
     "output_type": "stream",
     "text": [
      "Select the category to see another category\n",
      "Select the YEAR to adjust the start of the boxplot data. Data for the boxplotes ends 2020\n",
      "\n"
     ]
    },
    {
     "data": {
      "application/vnd.jupyter.widget-view+json": {
       "model_id": "89f8c7a224494218ad89f3ed76686bd5",
       "version_major": 2,
       "version_minor": 0
      },
      "text/plain": [
       "interactive(children=(Dropdown(description='category', options=('k_totaal', 'k_mannen', 'k_vrouwen', 'k_0_65',…"
      ]
     },
     "metadata": {},
     "output_type": "display_data"
    }
   ],
   "source": [
    "print('Select the category to see another category')\n",
    "print(f'Select the YEAR to adjust the start of the boxplot data. Data for the boxplotes ends {CUTOFF}\\n')\n",
    "df = df_overledenen3.copy()\n",
    "\n",
    "title = f'Impact COVID-19 in The Netherlands<br><sup>CBS OpenData tables {DISEASED}, {POPULATION} and {EST_POPULATION}, updated on: ' + datetime.today().strftime('%Y-%m-%d') \n",
    "\n",
    "fig1 = go.FigureWidget()\n",
    "fig1.layout.title = title\n",
    "fig1.layout.width = 1200\n",
    "fig1.layout.height = 600\n",
    "fig1.layout.xaxis.title = 'week'\n",
    "fig1.layout.xaxis.tickvals = weeks\n",
    "fig1.layout.yaxis.title = 'Normalized Diseased / 100.000<br><sub>(diseased per week / (# days per week * population)</sub>'\n",
    "\n",
    "fig1.add_box()\n",
    "for i in range(CUTOFF, NEXT_YEAR):\n",
    "  fig1.add_scatter()\n",
    "\n",
    "@interact(category=plots, year=(min(df['jaar']), CUTOFF-1, 1))\n",
    "def update(category='k_totaal', year=EXTRAPOLATION_FROM):\n",
    "  fig1.layout.title = title + f'<br>Boxplot data for {category[2:].replace(\"_\", \" - \").upper()} from {year} through {CUTOFF-1}'\n",
    "  with fig1.batch_update():\n",
    "    fig1.data[0].x = weeks\n",
    "    fig1.data[0].y = df[(df['jaar']>=year)&(df['jaar']<CUTOFF)][category]\n",
    "    fig1.data[0].name = category[2:].replace('_', ' - ')\n",
    "    for i in range(CUTOFF, NEXT_YEAR):\n",
    "      fig1.data[i+1-CUTOFF].line.color=colors[i-CUTOFF]\n",
    "      fig1.data[i+1-CUTOFF].x = df[df['jaar']==i]['week']\n",
    "      fig1.data[i+1-CUTOFF].y = df[df['jaar']==i][category]\n",
    "      fig1.data[i+1-CUTOFF].name = i\n",
    "  fig1.show()"
   ]
  },
  {
   "cell_type": "code",
   "execution_count": null,
   "id": "e5dfcca4-70eb-439d-a6f9-36c71e4e7e74",
   "metadata": {},
   "outputs": [],
   "source": []
  }
 ],
 "metadata": {
  "kernelspec": {
   "display_name": "Python 3 (ipykernel)",
   "language": "python",
   "name": "python3"
  },
  "language_info": {
   "codemirror_mode": {
    "name": "ipython",
    "version": 3
   },
   "file_extension": ".py",
   "mimetype": "text/x-python",
   "name": "python",
   "nbconvert_exporter": "python",
   "pygments_lexer": "ipython3",
   "version": "3.9.9"
  }
 },
 "nbformat": 4,
 "nbformat_minor": 5
}
